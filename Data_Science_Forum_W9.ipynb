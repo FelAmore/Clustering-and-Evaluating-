{
  "nbformat": 4,
  "nbformat_minor": 0,
  "metadata": {
    "colab": {
      "provenance": []
    },
    "kernelspec": {
      "name": "python3",
      "display_name": "Python 3"
    },
    "language_info": {
      "name": "python"
    }
  },
  "cells": [
    {
      "cell_type": "code",
      "execution_count": 2,
      "metadata": {
        "id": "E7OqWFA3tj-W"
      },
      "outputs": [],
      "source": [
        "import pandas as pd\n",
        "import plotly.express as px\n",
        "from sklearn.cluster import KMeans, DBSCAN, AgglomerativeClustering, MeanShift\n",
        "from sklearn.preprocessing import StandardScaler\n",
        "from sklearn.metrics import silhouette_score, calinski_harabasz_score"
      ]
    },
    {
      "cell_type": "code",
      "source": [
        "# Load the data\n",
        "data = pd.read_csv('https://raw.githubusercontent.com/FelAmore/Data-Science/main/tsunami.csv')"
      ],
      "metadata": {
        "id": "sNA4MGFeuUCF"
      },
      "execution_count": 3,
      "outputs": []
    },
    {
      "cell_type": "code",
      "source": [
        "# Choose columns to clusters\n",
        "features = data[['Longitude', 'Latitude', 'Magnitude']]"
      ],
      "metadata": {
        "id": "SUuQc7k5ubYe"
      },
      "execution_count": 4,
      "outputs": []
    },
    {
      "cell_type": "code",
      "source": [
        "# Standardize the data\n",
        "scaler = StandardScaler()\n",
        "scaled_features = scaler.fit_transform(features)"
      ],
      "metadata": {
        "id": "GmnM50RVunf3"
      },
      "execution_count": 5,
      "outputs": []
    },
    {
      "cell_type": "code",
      "source": [
        "# Apply K-Means clustering\n",
        "kmeans = KMeans(n_clusters=3, random_state=42)\n",
        "data['Cluster_KMeans'] = kmeans.fit_predict(scaled_features)"
      ],
      "metadata": {
        "colab": {
          "base_uri": "https://localhost:8080/"
        },
        "id": "Pej6Fp3iuxY6",
        "outputId": "b2734d29-1352-459f-abaa-f2c5663c1129"
      },
      "execution_count": 6,
      "outputs": [
        {
          "output_type": "stream",
          "name": "stderr",
          "text": [
            "/usr/local/lib/python3.10/dist-packages/sklearn/cluster/_kmeans.py:870: FutureWarning: The default value of `n_init` will change from 10 to 'auto' in 1.4. Set the value of `n_init` explicitly to suppress the warning\n",
            "  warnings.warn(\n"
          ]
        }
      ]
    },
    {
      "cell_type": "code",
      "source": [
        "# Apply DBSCAN clustering\n",
        "dbscan = DBSCAN(eps=0.5, min_samples=3)\n",
        "data['Cluster_DBSCAN'] = dbscan.fit_predict(scaled_features)"
      ],
      "metadata": {
        "id": "pnIdan4VvBS6"
      },
      "execution_count": 7,
      "outputs": []
    },
    {
      "cell_type": "code",
      "source": [
        "# Apply hierarchical clustering\n",
        "hierarchical = AgglomerativeClustering(n_clusters=3)\n",
        "data['Cluster_Hierarchical'] = hierarchical.fit_predict(scaled_features)"
      ],
      "metadata": {
        "id": "kyii6FGGvkkW"
      },
      "execution_count": 15,
      "outputs": []
    },
    {
      "cell_type": "code",
      "source": [
        "# Apply Mean Shift clustering\n",
        "meanshift = MeanShift()\n",
        "data['Cluster_MeanShift'] = meanshift.fit_predict(scaled_features)"
      ],
      "metadata": {
        "id": "ltV9wnoXwxWf"
      },
      "execution_count": 9,
      "outputs": []
    },
    {
      "cell_type": "code",
      "source": [
        "# Evaluate the clustering using silhouette score\n",
        "silhouette_kmeans = silhouette_score(scaled_features, data['Cluster_KMeans'])\n",
        "silhouette_dbscan = silhouette_score(scaled_features, data['Cluster_DBSCAN'])\n",
        "silhouette_hierarchical = silhouette_score(scaled_features, data['Cluster_Hierarchical'])\n",
        "silhouette_meanshift = silhouette_score(scaled_features, data['Cluster_MeanShift'])"
      ],
      "metadata": {
        "id": "9W1hCPQDw5h7"
      },
      "execution_count": 17,
      "outputs": []
    },
    {
      "cell_type": "code",
      "source": [
        "# Evaluate the clustering using calinski harabasz score\n",
        "calinski_kmeans = calinski_harabasz_score(scaled_features, data['Cluster_KMeans'])\n",
        "calinski_dbscan = calinski_harabasz_score(scaled_features, data['Cluster_DBSCAN'])\n",
        "calinski_hierarchical = calinski_harabasz_score(scaled_features, data['Cluster_Hierarchical'])\n",
        "calinski_meanshift = calinski_harabasz_score(scaled_features, data['Cluster_MeanShift'])"
      ],
      "metadata": {
        "id": "UqiL6Kh02IME"
      },
      "execution_count": 18,
      "outputs": []
    },
    {
      "cell_type": "code",
      "source": [
        "# Printing Outputs\n",
        "print(f\"Clustering methods used: K-Means, DBSCAN, Hierarchical, MeanShift\")\n",
        "print(f\"Evaluation methods used: Silhouette score, Jaccard score\")\n",
        "\n",
        "print(\" \")\n",
        "print(f\"Evaluated using Silhouette Score\")\n",
        "print(f\"K-Means     : {silhouette_kmeans}\")\n",
        "print(f\"DBSCAN      : {silhouette_dbscan}\")\n",
        "print(f\"Hierarchical: {silhouette_hierarchical}\")\n",
        "print(f\"Mean Shift  : {silhouette_meanshift}\")\n",
        "\n",
        "print(\" \")\n",
        "print(f\"Evaluated using Calinski Harabasz Score\")\n",
        "print(f\"K-Means     : {calinski_kmeans}\")\n",
        "print(f\"DBSCAN      : {calinski_dbscan}\")\n",
        "print(f\"Hierarchical: {calinski_hierarchical}\")\n",
        "print(f\"Mean Shift  : {calinski_meanshift}\")\n"
      ],
      "metadata": {
        "colab": {
          "base_uri": "https://localhost:8080/"
        },
        "id": "ThHv4Zg71Wne",
        "outputId": "9c43bcb7-0be2-4e71-cb02-eaed5d294ccf"
      },
      "execution_count": 19,
      "outputs": [
        {
          "output_type": "stream",
          "name": "stdout",
          "text": [
            "Clustering methods used: K-Means, DBSCAN, Hierarchical, MeanShift\n",
            "Evaluation methods used: Silhouette score, Jaccard score\n",
            " \n",
            "Evaluated using Silhouette Score\n",
            "K-Means     : 0.5058499355375675\n",
            "DBSCAN      : 0.5117403319104924\n",
            "Hierarchical: 0.49352168288924625\n",
            "Mean Shift  : 0.5892701947157417\n",
            " \n",
            "Evaluated using Calinski Harabasz Score\n",
            "K-Means     : 24.69038169431235\n",
            "DBSCAN      : 9.52082519960284\n",
            "Hierarchical: 23.509005747983036\n",
            "Mean Shift  : 23.15006142249963\n"
          ]
        }
      ]
    }
  ]
}